{
  "nbformat": 4,
  "nbformat_minor": 0,
  "metadata": {
    "colab": {
      "provenance": [],
      "collapsed_sections": []
    },
    "kernelspec": {
      "name": "python3",
      "display_name": "Python 3"
    },
    "language_info": {
      "name": "python"
    }
  },
  "cells": [
    {
      "cell_type": "markdown",
      "source": [
        "NAME: SAACHI CHANDRASHEKHAR\n",
        "\n",
        "COURSE: USML FALL 2022"
      ],
      "metadata": {
        "id": "mckxIJsgJF5_"
      }
    },
    {
      "cell_type": "markdown",
      "source": [
        "## **4. Document Clustering**"
      ],
      "metadata": {
        "id": "EKC6Lh8DT2SY"
      }
    },
    {
      "cell_type": "code",
      "source": [
        "# Import all libraries\n",
        "from sklearn.datasets import fetch_20newsgroups\n",
        "import nltk\n",
        "from nltk.stem import WordNetLemmatizer \n",
        "from nltk.tokenize import word_tokenize\n",
        "import re\n",
        "import string\n",
        "from sklearn.feature_extraction.text import TfidfVectorizer\n",
        "from sklearn.cluster import KMeans\n",
        "from sklearn.cluster import SpectralClustering\n",
        "from sklearn.cluster import AgglomerativeClustering\n",
        "from sklearn import metrics\n",
        "from time import time\n",
        "import numpy as np\n",
        "import matplotlib.pyplot as plt"
      ],
      "metadata": {
        "id": "yTIhyXuWV2ln"
      },
      "execution_count": 1,
      "outputs": []
    },
    {
      "cell_type": "code",
      "source": [
        "# Download any package required\n",
        "nltk.download('punkt')\n",
        "nltk.download('wordnet')\n",
        "nltk.download('omw-1.4')\n",
        "nltk.download('stopwords')"
      ],
      "metadata": {
        "colab": {
          "base_uri": "https://localhost:8080/",
          "height": 0
        },
        "id": "zqsmrv1n0z1f",
        "outputId": "874c8c50-6bbe-4b49-d5fc-a38f0118a349"
      },
      "execution_count": 2,
      "outputs": [
        {
          "output_type": "stream",
          "name": "stderr",
          "text": [
            "[nltk_data] Downloading package punkt to /root/nltk_data...\n",
            "[nltk_data]   Unzipping tokenizers/punkt.zip.\n",
            "[nltk_data] Downloading package wordnet to /root/nltk_data...\n",
            "[nltk_data] Downloading package omw-1.4 to /root/nltk_data...\n",
            "[nltk_data] Downloading package stopwords to /root/nltk_data...\n",
            "[nltk_data]   Unzipping corpora/stopwords.zip.\n"
          ]
        },
        {
          "output_type": "execute_result",
          "data": {
            "text/plain": [
              "True"
            ]
          },
          "metadata": {},
          "execution_count": 2
        }
      ]
    },
    {
      "cell_type": "markdown",
      "source": [
        "**Q1. Download dataset**"
      ],
      "metadata": {
        "id": "Z7Djo7P6UDMe"
      }
    },
    {
      "cell_type": "code",
      "source": [
        "# Downloading the data for only selected categories\n",
        "dataset = fetch_20newsgroups(\n",
        "remove =('headers ', 'footers ', 'quotes '),\n",
        "subset='all',\n",
        "categories =['comp.graphics', 'rec.autos', 'rec.sport.baseball',\n",
        "             'sci.space', 'talk.politics.mideast'])\n",
        "\n"
      ],
      "metadata": {
        "id": "KPdHJ8JQSN4Z"
      },
      "execution_count": 3,
      "outputs": []
    },
    {
      "cell_type": "code",
      "source": [
        "# Checking number of documents\n",
        "len(dataset.data)"
      ],
      "metadata": {
        "colab": {
          "base_uri": "https://localhost:8080/",
          "height": 0
        },
        "id": "j35bQyv2UUjN",
        "outputId": "67427f91-f8dd-4dd9-989a-3e022a1fc5a1"
      },
      "execution_count": 4,
      "outputs": [
        {
          "output_type": "execute_result",
          "data": {
            "text/plain": [
              "4884"
            ]
          },
          "metadata": {},
          "execution_count": 4
        }
      ]
    },
    {
      "cell_type": "code",
      "source": [
        "# Clean text by removing stop words, punctuations, links, and lemmatize the words\n",
        "stopword = nltk.corpus.stopwords.words('english')\n",
        "lemmatizer = WordNetLemmatizer()\n",
        "for i in range(len(dataset.data)):\n",
        "    word_list = word_tokenize(dataset.data[i])\n",
        "    lemmatized_doc = \"\"\n",
        "    for word in word_list:\n",
        "      word = word.lower()\n",
        "      word = re.sub(r\"http\\S+\", \"\", word)\n",
        "      word = re.sub(r\"www.\\S+\", \"\", word)\n",
        "      word = \"\".join([char for char in word if char not in string.punctuation])\n",
        "      cleaned = \" \".join([x for x in re.split('\\W+', word)\n",
        "        if x not in stopword])\n",
        "      lemmatized_doc = lemmatized_doc + \" \" + lemmatizer.lemmatize(cleaned)\n",
        "    dataset.data[i] = lemmatized_doc "
      ],
      "metadata": {
        "id": "kD83vejEtL6F"
      },
      "execution_count": 5,
      "outputs": []
    },
    {
      "cell_type": "code",
      "source": [
        "# Snippet of the cleaned data\n",
        "dataset.data[1]"
      ],
      "metadata": {
        "colab": {
          "base_uri": "https://localhost:8080/",
          "height": 123
        },
        "id": "odF51pY4sYCD",
        "outputId": "b5e91da5-68ef-41e8-a0ed-c453188be8d3"
      },
      "execution_count": 6,
      "outputs": [
        {
          "output_type": "execute_result",
          "data": {
            "text/plain": [
              "'   hasan  mcrcimmcgilledu subject    islam border v israeli border originator  hasan  haleymcrcimmcgilledu nntppostinghost  haleymcrcimmcgilledu organization  mcgill research centre  intelligent machine line  51  article  1993apr520280027705  wamumdedu   spinoza  next06worwamumdedu  yon bonnie laird  cairn robbing  writes     article  c50wjjj4r  newsflashconcordiaca  ilyess  ececoncordiaca    ilyess bdira  writes      1    jew   nt even believe  god     case  many      founder  secular zionism    right  palestine       inhabitant  palestine    god gave   land    gd  nothing         land   fact given     jew   united nation  quite  bit    purchased  arab   absentee landlord  present claim  based  prior ownership  purchase    aforementioned absentee landlord  award   united nation     partition   palestine mandate territory     result    defensive war fought   egyptian  syrian  jordanian  et al            2       speak   west bank          inhabitant   jew    want   part  israel    first    point   many jew    fact agree     idea   west bank    since  however   agree      claim  west bank   think   answer  question thusly   west   bank    called  spoil  war  hussein ordered  arab legion     funny  anyway  suppose   fact israel didnot attack jordan till jordan attacked israel       explain  attack  syria  1967  syria didnot enter  war  israel till  4th day    way   funny    implying   reason behind 1967  israel    capture sinai  egypt     attack israel     poor move  seeing    israeli   promptly kicked  butt   territory  therefore forefeit  retaining   possession     west bank   desirable    beat   national suicide   israeli  put another way  one could ask        many palestinian seem  think  telaviv belongs       future state  palestine   long   state  affair   continues   seems   give  palestinian  place       launch attack  jew   real poor idea  giving   entire west   bank would  idiotic froma security standpoint   addition       small matter  jerusalem    considered   part   west   bank   chance   israeli giving  jerusalem  nil  even   leftist  think yasser   really cool dude  like yossi sarid   nt   going  propose giving  jerusalem        get run   town     rail        chag sameach    jeff'"
            ],
            "application/vnd.google.colaboratory.intrinsic+json": {
              "type": "string"
            }
          },
          "metadata": {},
          "execution_count": 6
        }
      ]
    },
    {
      "cell_type": "markdown",
      "source": [
        "**Q2. Use TfIdfVectorizor**"
      ],
      "metadata": {
        "id": "aULjdwy3UJmm"
      }
    },
    {
      "cell_type": "code",
      "source": [
        "# Getting data in vector format\n",
        "vectorizer = TfidfVectorizer()\n",
        "vectors = vectorizer.fit_transform(dataset.data)\n",
        "vectors.shape"
      ],
      "metadata": {
        "colab": {
          "base_uri": "https://localhost:8080/",
          "height": 0
        },
        "id": "E9J4-nqfUOy8",
        "outputId": "e36767bb-9a7a-4fb4-f9c7-0d210b8c44d1"
      },
      "execution_count": 7,
      "outputs": [
        {
          "output_type": "execute_result",
          "data": {
            "text/plain": [
              "(4884, 57666)"
            ]
          },
          "metadata": {},
          "execution_count": 7
        }
      ]
    },
    {
      "cell_type": "code",
      "source": [
        "dataset.target.shape"
      ],
      "metadata": {
        "colab": {
          "base_uri": "https://localhost:8080/",
          "height": 0
        },
        "id": "6ZDVPnRidiSX",
        "outputId": "1f23b672-5fd5-49de-8067-49b16c3b0291"
      },
      "execution_count": 8,
      "outputs": [
        {
          "output_type": "execute_result",
          "data": {
            "text/plain": [
              "(4884,)"
            ]
          },
          "metadata": {},
          "execution_count": 8
        }
      ]
    },
    {
      "cell_type": "markdown",
      "source": [
        "**Q3. Use various clustering algorithms**"
      ],
      "metadata": {
        "id": "9DiB5ghSc3i4"
      }
    },
    {
      "cell_type": "code",
      "source": [
        "# Defining X and y variables\n",
        "X = vectors\n",
        "y = dataset.target \n",
        "\n",
        "# Function to get average of list elements\n",
        "def average(lst):\n",
        "  avg = sum(lst) / len(lst)\n",
        "  return avg\n",
        "\n",
        "# Creating dense matrix variable\n",
        "dense_mat = X.toarray()"
      ],
      "metadata": {
        "id": "hGwSEjP5yTmT"
      },
      "execution_count": 9,
      "outputs": []
    },
    {
      "cell_type": "markdown",
      "source": [
        "**K MEANS CLUSTERING**"
      ],
      "metadata": {
        "id": "kClvSRNoyYGK"
      }
    },
    {
      "cell_type": "code",
      "source": [
        "# K MEANS CLUSTERING\n",
        "\n",
        "# Initializing variables to use for the different clustering algorithms\n",
        "rand = 10\n",
        "score_homog = []\n",
        "score_complete = []\n",
        "score_vmeasure = []\n",
        "score_rand = []\n",
        "score_sil = []\n",
        "time_lst = []\n",
        "\n",
        "for i in range(5):\n",
        "  t0 = time()\n",
        "  km = KMeans(n_clusters=5, random_state=rand)\n",
        "  km.fit(X)\n",
        "  homog_score = metrics.homogeneity_score(y, km.labels_)\n",
        "  complete_score = metrics.completeness_score(y, km.labels_)\n",
        "  vmeasure_score = metrics.v_measure_score(y, km.labels_)\n",
        "  rand_score = metrics.adjusted_rand_score(y, km.labels_)\n",
        "  sil_score = metrics.silhouette_score(X, km.labels_)\n",
        "  score_homog.append(homog_score)\n",
        "  score_complete.append(complete_score)\n",
        "  score_vmeasure.append(vmeasure_score)\n",
        "  score_rand.append(rand_score)\n",
        "  score_sil.append(sil_score)\n",
        "  times = time() - t0\n",
        "  time_lst.append(times)\n",
        "  rand = rand + 15\n",
        "\n",
        "\n",
        "avg_km_homog = average(score_homog)\n",
        "std_km_homog = np.std(score_homog)\n",
        "avg_km_complete = average(score_complete)\n",
        "std_km_complete = np.std(score_complete)\n",
        "avg_km_vmeasure = average(score_vmeasure)\n",
        "std_km_vmeasure = np.std(score_vmeasure)\n",
        "avg_km_rand = average(score_rand)\n",
        "std_km_rand = np.std(score_rand)\n",
        "avg_km_sil = average(score_sil)\n",
        "std_km_sil = np.std(score_sil)\n",
        "time_km = average(time_lst)\n",
        "std_time_km = np.std(time_lst)\n",
        "\n"
      ],
      "metadata": {
        "id": "WYNc-Fx6c3MT"
      },
      "execution_count": 10,
      "outputs": []
    },
    {
      "cell_type": "markdown",
      "source": [
        "**SPECTRAL CLUSTERING**"
      ],
      "metadata": {
        "id": "idxh5RDk7Mvp"
      }
    },
    {
      "cell_type": "code",
      "source": [
        "# SPECTRAL CLUSTERING\n",
        "\n",
        "# Initializing variables to use for the different clustering algorithms\n",
        "rand = 10\n",
        "score_homog = []\n",
        "score_complete = []\n",
        "score_vmeasure = []\n",
        "score_rand = []\n",
        "score_sil = []\n",
        "time_lst = []\n",
        "\n",
        "for i in range(5):\n",
        "  t0 = time()\n",
        "  spec = SpectralClustering(n_clusters=5,assign_labels='discretize',random_state=rand)\n",
        "  spec.fit(X)\n",
        "  homog_score = metrics.homogeneity_score(y, spec.labels_)\n",
        "  complete_score = metrics.completeness_score(y, spec.labels_)\n",
        "  vmeasure_score = metrics.v_measure_score(y, spec.labels_)\n",
        "  rand_score = metrics.adjusted_rand_score(y, spec.labels_)\n",
        "  sil_score = metrics.silhouette_score(X, spec.labels_)\n",
        "  score_homog.append(homog_score)\n",
        "  score_complete.append(complete_score)\n",
        "  score_vmeasure.append(vmeasure_score)\n",
        "  score_rand.append(rand_score)\n",
        "  score_sil.append(sil_score)\n",
        "  times = time() - t0\n",
        "  time_lst.append(times)\n",
        "  rand = rand + 15\n",
        "\n",
        "\n",
        "avg_spec_homog = average(score_homog)\n",
        "std_spec_homog = np.std(score_homog)\n",
        "avg_spec_complete = average(score_complete)\n",
        "std_spec_complete = np.std(score_complete)\n",
        "avg_spec_vmeasure = average(score_vmeasure)\n",
        "std_spec_vmeasure = np.std(score_vmeasure)\n",
        "avg_spec_rand = average(score_rand)\n",
        "std_spec_rand = np.std(score_rand)\n",
        "avg_spec_sil = average(score_sil)\n",
        "std_spec_sil = np.std(score_sil)\n",
        "time_spec = average(time_lst)\n",
        "std_time_spec = np.std(time_lst)\n"
      ],
      "metadata": {
        "id": "apKhdNEhUO5j"
      },
      "execution_count": 11,
      "outputs": []
    },
    {
      "cell_type": "markdown",
      "source": [
        "**AGGLOMERATIVE CLUSTERING**"
      ],
      "metadata": {
        "id": "0bABpg5K7Pif"
      }
    },
    {
      "cell_type": "code",
      "source": [
        "# AGGLOMERATIVE CLUSTERING\n",
        "\n",
        "# Initializing variables to use for the different clustering algorithms\n",
        "\n",
        "score_homog = []\n",
        "score_complete = []\n",
        "score_vmeasure = []\n",
        "score_rand = []\n",
        "score_sil = []\n",
        "time_lst = []\n",
        "\n",
        "for i in range(1):\n",
        "  t0 = time()\n",
        "  aglo = AgglomerativeClustering(n_clusters=5)\n",
        "  aglo.fit(dense_mat)\n",
        "  homog_score = metrics.homogeneity_score(y, aglo.labels_)\n",
        "  complete_score = metrics.completeness_score(y, aglo.labels_)\n",
        "  vmeasure_score = metrics.v_measure_score(y, aglo.labels_)\n",
        "  rand_score = metrics.adjusted_rand_score(y, aglo.labels_)\n",
        "  sil_score = metrics.silhouette_score(X, aglo.labels_)\n",
        "  score_homog.append(homog_score)\n",
        "  score_complete.append(complete_score)\n",
        "  score_vmeasure.append(vmeasure_score)\n",
        "  score_rand.append(rand_score)\n",
        "  score_sil.append(sil_score)\n",
        "  times = time() - t0\n",
        "  time_lst.append(times)\n",
        "\n",
        "\n",
        "\n",
        "avg_aglo_homog = average(score_homog)\n",
        "std_aglo_homog = np.std(score_homog)\n",
        "avg_aglo_complete = average(score_complete)\n",
        "std_aglo_complete = np.std(score_complete)\n",
        "avg_aglo_vmeasure = average(score_vmeasure)\n",
        "std_aglo_vmeasure = np.std(score_vmeasure)\n",
        "avg_aglo_rand = average(score_rand)\n",
        "std_aglo_rand = np.std(score_rand)\n",
        "avg_aglo_sil = average(score_sil)\n",
        "std_aglo_sil = np.std(score_sil)\n",
        "time_aglo = average(time_lst)\n",
        "std_time_aglo = np.std(time_lst)\n",
        "\n"
      ],
      "metadata": {
        "id": "WIcD04-gUO16"
      },
      "execution_count": 12,
      "outputs": []
    },
    {
      "cell_type": "markdown",
      "source": [
        "**Q4. Clustering evaluation metrics**"
      ],
      "metadata": {
        "id": "3-S_vuABO-CZ"
      }
    },
    {
      "cell_type": "code",
      "source": [
        "print(\"KM Metrics\")\n",
        "print(\"Average and STDEV Homogeneity Score:\", avg_km_homog, std_km_homog)\n",
        "print(\"Average and STDEV Completeness Score:\", avg_km_complete, std_km_complete)\n",
        "print(\"Average and STDEV V-measure Score:\", avg_km_vmeasure, std_km_vmeasure)\n",
        "print(\"Average and STDEV Adjusted Rand index Score:\", avg_km_rand, std_km_rand)\n",
        "print(\"Average and STDEV Silhouette Score:\", avg_km_sil, std_km_sil)\n",
        "print(\"Average time:\", time_km, \"seconds\")"
      ],
      "metadata": {
        "colab": {
          "base_uri": "https://localhost:8080/",
          "height": 0
        },
        "id": "Bup2o6uiSQib",
        "outputId": "adb04124-38ed-4d20-bfec-37026cae780e"
      },
      "execution_count": 13,
      "outputs": [
        {
          "output_type": "stream",
          "name": "stdout",
          "text": [
            "KM Metrics\n",
            "Average and STDEV Homogeneity Score: 0.5274124338685797 0.03190090539349215\n",
            "Average and STDEV Completeness Score: 0.6475325949374943 0.030913137796630016\n",
            "Average and STDEV V-measure Score: 0.5809250261078012 0.02865843166350452\n",
            "Average and STDEV Adjusted Rand index Score: 0.39857803470779374 0.06256185729375041\n",
            "Average and STDEV Silhouette Score: 0.007063417293039229 0.00010330240542546145\n",
            "Average time: 5.372044324874878 seconds\n"
          ]
        }
      ]
    },
    {
      "cell_type": "code",
      "source": [
        "print(\"Spectral Metrics\")\n",
        "print(\"Average and STDEV Homogeneity Score:\", avg_spec_homog, std_spec_homog)\n",
        "print(\"Average and STDEV Completeness Score:\", avg_spec_complete, std_spec_complete)\n",
        "print(\"Average and STDEV V-measure Score:\", avg_spec_vmeasure, std_spec_vmeasure)\n",
        "print(\"Average and STDEV Adjusted Rand index Score:\", avg_spec_rand, std_spec_rand)\n",
        "print(\"Average and STDEV Silhouette Score:\", avg_spec_sil, std_spec_sil)\n",
        "print(\"Average time:\", time_spec, \"seconds\")"
      ],
      "metadata": {
        "colab": {
          "base_uri": "https://localhost:8080/",
          "height": 0
        },
        "id": "2rK7Mj4tTCQW",
        "outputId": "157a2d17-c9d4-43ac-c62a-46ecb8340fe5"
      },
      "execution_count": 14,
      "outputs": [
        {
          "output_type": "stream",
          "name": "stdout",
          "text": [
            "Spectral Metrics\n",
            "Average and STDEV Homogeneity Score: 0.4712092088594762 3.510833468576701e-17\n",
            "Average and STDEV Completeness Score: 0.568811582439493 8.599750569898517e-17\n",
            "Average and STDEV V-measure Score: 0.5154305721458818 1.1102230246251565e-16\n",
            "Average and STDEV Adjusted Rand index Score: 0.32593521498101774 0.0\n",
            "Average and STDEV Silhouette Score: 0.006456318760623546 0.0\n",
            "Average time: 8.147219133377074 seconds\n"
          ]
        }
      ]
    },
    {
      "cell_type": "code",
      "source": [
        "print(\"Agglomerative Metrics\")\n",
        "print(\"Average and STDEV Homogeneity Score:\", avg_aglo_homog, std_aglo_homog)\n",
        "print(\"Average and STDEV Completeness Score:\", avg_aglo_complete, std_aglo_complete)\n",
        "print(\"Average and STDEV V-measure Score:\", avg_aglo_vmeasure, std_aglo_vmeasure)\n",
        "print(\"Average and STDEV Adjusted Rand index Score:\", avg_aglo_rand, std_aglo_rand)\n",
        "print(\"Average and STDEV Silhouette Score:\", avg_aglo_sil, std_aglo_sil)\n",
        "print(\"Average time:\", time_aglo, \"seconds\")"
      ],
      "metadata": {
        "colab": {
          "base_uri": "https://localhost:8080/",
          "height": 0
        },
        "id": "UR147I5WTC_e",
        "outputId": "c48c6373-3dbf-4e66-c216-602512cf2356"
      },
      "execution_count": 15,
      "outputs": [
        {
          "output_type": "stream",
          "name": "stdout",
          "text": [
            "Agglomerative Metrics\n",
            "Average and STDEV Homogeneity Score: 0.5057322101765919 0.0\n",
            "Average and STDEV Completeness Score: 0.6308483686781696 0.0\n",
            "Average and STDEV V-measure Score: 0.5614038207469265 0.0\n",
            "Average and STDEV Adjusted Rand index Score: 0.36931110750082885 0.0\n",
            "Average and STDEV Silhouette Score: 0.006629038118728745 0.0\n",
            "Average time: 495.69961190223694 seconds\n"
          ]
        }
      ]
    },
    {
      "cell_type": "markdown",
      "source": [
        "1. **Homogeneity:** This score checks whether a cluster contains only samples belonging to a single class. It's bounded between 0 and 1, with low values indicating a low homogeneity. The higher the value, the more homogenous the clusters are. We see that values are in the order: KMeans > Agglomerative > Spectral which means **KMeans has more homogenous clusters** than the other 2 algorithms.\n",
        "\n",
        "2. **Completeness:** A clustering result satisfies completeness if all the data points that are members of a given class are elements of the same cluster. Scores are between 0.0 and 1.0 where 1.0 stands for perfectly complete labeling.We see that values are in the order: KMeans > Agglomerative > Spectral which means **KMeans has more complete labelling** than the other 2 algorithms.\n",
        "\n",
        "3. **V-measure:** The V-measure is the harmonic mean between homogeneity and completeness. The score is between 0.0 and 1.0 with 1.0 stands for perfectly complete labeling. Here as well, **KMeans** has a better score than the rest.\n",
        "\n",
        "4. **Adjusted Rand index:** This score is used to determine whether two cluster results are similar to each other. The scores are between -1.0 and 1.0. Random labelings have an ARI close to 0.0. 1.0 stands for perfect match. **KMeans** has the higher score. \n",
        "\n",
        "5. **Silhouette:** It is a measure of how similar an object is to its own cluster (cohesion) compared to other clusters (separation). The best value is 1 and the worst value is -1. Values near 0 indicate overlapping clusters. The values for all 3 algorithms is very small, close to 0 which means that most have overlapping clusters. **KMeans** has a slightly better value than the others.\n"
      ],
      "metadata": {
        "id": "GRAxJlUrO2ZK"
      }
    },
    {
      "cell_type": "markdown",
      "source": [
        "**Q5. Plot avg score and Stddev for all metrics for algorithms**"
      ],
      "metadata": {
        "id": "4r6nqA4bUVjd"
      }
    },
    {
      "cell_type": "code",
      "source": [
        "avg_km_metrics = {\"Homogeneity\": avg_km_homog, \"Completeness\": avg_km_complete,\n",
        "                   \"V-measure\":avg_km_vmeasure, \"Adjusted Rand index\":avg_km_rand, \n",
        "                   \"Silhouette\":avg_km_sil }\n",
        "std_km_metrics = {\"Homogeneity\": std_km_homog, \"Completeness\": std_km_complete,\n",
        "                   \"V-measure\":std_km_vmeasure, \"Adjusted Rand index\":std_km_rand, \n",
        "                   \"Silhouette\":std_km_sil }\n",
        "\n",
        "X_axis = np.arange(len(avg_km_metrics))\n",
        "ax = plt.subplot(111)\n",
        "ax.bar(X_axis, avg_km_metrics.values(), width=0.2, color='b', align='center', label = \"Average score\")\n",
        "ax.bar(X_axis+0.2, std_km_metrics.values(), width=0.2, color='g', align='center', label = \"Standard deviation\")\n",
        "plt.xticks(X_axis, avg_km_metrics.keys(), rotation = 45)\n",
        "plt.title(\"Metric scores for KMeans\", fontsize=17)\n",
        "plt.legend()\n",
        "plt.show()"
      ],
      "metadata": {
        "colab": {
          "base_uri": "https://localhost:8080/",
          "height": 355
        },
        "id": "FBL2xcqD9mhE",
        "outputId": "46a700d9-b447-4e06-e860-c5cd9bfc6ba0"
      },
      "execution_count": 16,
      "outputs": [
        {
          "output_type": "display_data",
          "data": {
            "text/plain": [
              "<Figure size 432x288 with 1 Axes>"
            ],
            "image/png": "[encoded data removed]"
          },
          "metadata": {
            "needs_background": "light"
          }
        }
      ]
    },
    {
      "cell_type": "code",
      "source": [
        "avg_spec_metrics = {\"Homogeneity\": avg_spec_homog, \"Completeness\": avg_spec_complete,\n",
        "                   \"V-measure\":avg_spec_vmeasure, \"Adjusted Rand index\":avg_spec_rand, \n",
        "                   \"Silhouette\":avg_spec_sil }\n",
        "std_spec_metrics = {\"Homogeneity\": std_spec_homog, \"Completeness\": std_spec_complete,\n",
        "                   \"V-measure\":std_spec_vmeasure, \"Adjusted Rand index\":std_spec_rand, \n",
        "                   \"Silhouette\":std_spec_sil }\n",
        "\n",
        "X_axis = np.arange(len(avg_spec_metrics))\n",
        "ax = plt.subplot(111)\n",
        "ax.bar(X_axis, avg_spec_metrics.values(), width=0.2, color='b', align='center', label = \"Average score\")\n",
        "ax.bar(X_axis+0.2, std_spec_metrics.values(), width=0.2, color='g', align='center', label = \"Standard deviation\")\n",
        "plt.xticks(X_axis, avg_spec_metrics.keys(), rotation = 45)\n",
        "plt.title(\"Metric scores for Spectral\", fontsize=17)\n",
        "plt.legend()\n",
        "plt.show()"
      ],
      "metadata": {
        "colab": {
          "base_uri": "https://localhost:8080/",
          "height": 355
        },
        "id": "-lRTpCvPT80R",
        "outputId": "a62f8e81-7910-4785-ff30-f1d90fb1231d"
      },
      "execution_count": 17,
      "outputs": [
        {
          "output_type": "display_data",
          "data": {
            "text/plain": [
              "<Figure size 432x288 with 1 Axes>"
            ],
            "image/png": "[encoded data removed]"
          },
          "metadata": {
            "needs_background": "light"
          }
        }
      ]
    },
    {
      "cell_type": "code",
      "source": [
        "avg_aglo_metrics = {\"Homogeneity\": avg_aglo_homog, \"Completeness\": avg_aglo_complete,\n",
        "                   \"V-measure\":avg_aglo_vmeasure, \"Adjusted Rand index\":avg_aglo_rand, \n",
        "                   \"Silhouette\":avg_aglo_sil }\n",
        "std_aglo_metrics = {\"Homogeneity\": std_aglo_homog, \"Completeness\": std_aglo_complete,\n",
        "                   \"V-measure\":std_aglo_vmeasure, \"Adjusted Rand index\":std_aglo_rand, \n",
        "                   \"Silhouette\":std_aglo_sil }\n",
        "\n",
        "X_axis = np.arange(len(avg_aglo_metrics))\n",
        "ax = plt.subplot(111)\n",
        "ax.bar(X_axis, avg_aglo_metrics.values(), width=0.2, color='b', align='center', label = \"Average score\")\n",
        "ax.bar(X_axis+0.2, std_aglo_metrics.values(), width=0.2, color='g', align='center', label = \"Standard deviation\")\n",
        "plt.xticks(X_axis, avg_aglo_metrics.keys(), rotation = 45)\n",
        "plt.title(\"Metric scores for Agglomerative\", fontsize=17)\n",
        "plt.legend()\n",
        "plt.show()                  "
      ],
      "metadata": {
        "colab": {
          "base_uri": "https://localhost:8080/",
          "height": 355
        },
        "id": "n4BQ6X4WT-QL",
        "outputId": "f8042958-201e-437c-a1df-3b3e86bcc647"
      },
      "execution_count": 18,
      "outputs": [
        {
          "output_type": "display_data",
          "data": {
            "text/plain": [
              "<Figure size 432x288 with 1 Axes>"
            ],
            "image/png": "[encoded data removed]"
          },
          "metadata": {
            "needs_background": "light"
          }
        }
      ]
    },
    {
      "cell_type": "markdown",
      "source": [
        "As agglomerative runs only once, there is no standard deviation values."
      ],
      "metadata": {
        "id": "wNLtEJmqWM9M"
      }
    },
    {
      "cell_type": "markdown",
      "source": [
        "**Q6. Plot avg running time and Stddev for all algorithms**"
      ],
      "metadata": {
        "id": "qaAfZDvnsy3B"
      }
    },
    {
      "cell_type": "code",
      "source": [
        "time_mean = {\"KMeans\": time_km, \"Spectral\": time_spec, \"Agglomerative\": time_aglo}\n",
        "time_std = {\"KMeans\": std_time_km, \"Spectral\": std_time_spec, \"Agglomerative\": std_time_aglo}"
      ],
      "metadata": {
        "id": "RdAYy5WGGszT"
      },
      "execution_count": 19,
      "outputs": []
    },
    {
      "cell_type": "code",
      "source": [
        "X_axis = np.arange(len(time_mean))\n",
        "ax = plt.subplot(111)\n",
        "ax.bar(X_axis, time_mean.values(), width=0.2, color='b', align='center', label = \"Average score\")\n",
        "ax.bar(X_axis+0.2, time_std.values(), width=0.2, color='g', align='center', label = \"Standard deviation\")\n",
        "ax.legend(('Pre Accuracy','Post Accuracy'))\n",
        "plt.xticks(X_axis, time_mean.keys(), rotation = 45)\n",
        "plt.ylabel(\"Time (s)\")\n",
        "plt.title(\"Comparison of run time for each algorithm\", fontsize=17)\n",
        "plt.legend()\n",
        "plt.show()  "
      ],
      "metadata": {
        "colab": {
          "base_uri": "https://localhost:8080/",
          "height": 334
        },
        "id": "EFsPoi2nGsvy",
        "outputId": "9281168a-db65-4b0f-d0f0-596b4cd1fdd4"
      },
      "execution_count": 23,
      "outputs": [
        {
          "output_type": "display_data",
          "data": {
            "text/plain": [
              "<Figure size 432x288 with 1 Axes>"
            ],
            "image/png": "[encoded data removed]"
          },
          "metadata": {
            "needs_background": "light"
          }
        }
      ]
    },
    {
      "cell_type": "markdown",
      "source": [
        "We see that **agglomerative** clustering takes a much higher time than KMeans or Spectral. This is probably due to the fact that agglomerative clustering requires the use of a dense matrix and the others use a sparse matrix."
      ],
      "metadata": {
        "id": "FX5uu0vdVJOT"
      }
    },
    {
      "cell_type": "markdown",
      "source": [
        "**Q7. 10 most influential words in KMeans**"
      ],
      "metadata": {
        "id": "oUvLqqYms44B"
      }
    },
    {
      "cell_type": "code",
      "source": [
        "km = KMeans(n_clusters=5, init='k-means++', max_iter=100)\n",
        "km.fit(X)"
      ],
      "metadata": {
        "colab": {
          "base_uri": "https://localhost:8080/",
          "height": 0
        },
        "id": "grc4eEpplxA8",
        "outputId": "d38597dd-c7de-4ff2-acc4-ee0007dc4869"
      },
      "execution_count": 21,
      "outputs": [
        {
          "output_type": "execute_result",
          "data": {
            "text/plain": [
              "KMeans(max_iter=100, n_clusters=5)"
            ]
          },
          "metadata": {},
          "execution_count": 21
        }
      ]
    },
    {
      "cell_type": "code",
      "source": [
        "centroids = km.cluster_centers_.argsort()[:, ::-1] ## Indices of largest centroids' entries in descending order\n",
        "terms = vectorizer.get_feature_names()\n",
        "for i in range(5):\n",
        "    print(\"Cluster %d:\" % i, end='')\n",
        "    for ind in centroids[i, :10]:\n",
        "        print(' %s' % terms[ind], end='')\n",
        "    print()"
      ],
      "metadata": {
        "colab": {
          "base_uri": "https://localhost:8080/",
          "height": 0
        },
        "id": "uNzdk6bdlw9b",
        "outputId": "f001e762-7684-4948-8cdc-a8a55accbe0d"
      },
      "execution_count": 22,
      "outputs": [
        {
          "output_type": "stream",
          "name": "stdout",
          "text": [
            "Cluster 0: game team player nt baseball year run hit win pitcher\n",
            "Cluster 1: space line subject organization would nt university image nntppostinghost writes\n",
            "Cluster 2: car nt engine oil writes would article dealer line one\n",
            "Cluster 3: israel israeli arab jew muslim jake palestinian jewish people right\n",
            "Cluster 4: armenian turkish armenia serdar turk argic greek turkey genocide people\n"
          ]
        },
        {
          "output_type": "stream",
          "name": "stderr",
          "text": [
            "/usr/local/lib/python3.7/dist-packages/sklearn/utils/deprecation.py:87: FutureWarning: Function get_feature_names is deprecated; get_feature_names is deprecated in 1.0 and will be removed in 1.2. Please use get_feature_names_out instead.\n",
            "  warnings.warn(msg, category=FutureWarning)\n"
          ]
        }
      ]
    },
    {
      "cell_type": "markdown",
      "source": [
        "We see the top 10 words from each cluster. \n",
        "\n",
        "1. Cluster 0 looks like the cluster for 'rec.sport.baseball' data as the words are mainly game related.\n",
        "2. Cluster 1 looks like the cluster for 'sci.space' data or 'comp.graphics' data.\n",
        "3. Cluster 2 looks like the cluster for 'rec.autos' data as it mentions cars, engines,\n",
        "4. Cluster 3 and 4 look like clusters for 'talk.politics.mideast' data. \n",
        "\n",
        "\n",
        "This shows that there might be overlapping of clusters using KMeans"
      ],
      "metadata": {
        "id": "alz3gENlXXNV"
      }
    },
    {
      "cell_type": "markdown",
      "source": [
        "**Q8. Discuss the results**"
      ],
      "metadata": {
        "id": "y_lEXg0hVc0c"
      }
    },
    {
      "cell_type": "markdown",
      "source": [
        "From the evaluation metrics, we see that KMeans gets much better scores compared to the other two algorithms. However, KMeans also doesn't do an extremely good job in the clustering as there might be overlapping clusters. \n",
        "\n",
        "The second best in terms of metric scores is Agglomerative but the biggest downside to this algorithm is that it takes a very long time for it to fit on the data. So using this algorithm on huge amount of data might be very time consuming."
      ],
      "metadata": {
        "id": "BTsQK26KVgIE"
      }
    }
  ]
}